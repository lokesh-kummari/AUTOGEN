{
 "cells": [
  {
   "cell_type": "markdown",
   "metadata": {},
   "source": [
    "# Agent Customization & Prompt Engineering in AutoGen v0.4"
   ]
  },
  {
   "cell_type": "code",
   "execution_count": 1,
   "metadata": {},
   "outputs": [
    {
     "name": "stderr",
     "output_type": "stream",
     "text": [
      "/Users/lokesh/Autogen/venv/lib/python3.13/site-packages/autogen_ext/models/openai/_openai_client.py:439: UserWarning: Missing required field 'structured_output' in ModelInfo. This field will be required in a future version of AutoGen.\n",
      "  validate_model_info(self._model_info)\n"
     ]
    }
   ],
   "source": [
    "from autogen_agentchat.agents import AssistantAgent\n",
    "from autogen_ext.models.openai import OpenAIChatCompletionClient\n",
    "from dotenv import load_dotenv\n",
    "import os\n",
    "\n",
    "load_dotenv()\n",
    "api_key = os.getenv('OPENAI_API_KEY')\n",
    "model_client =  OpenAIChatCompletionClient(\n",
    "    base_url=\"https://openrouter.ai/api/v1\",\n",
    "    model=\"deepseek/deepseek-r1-0528:free\",\n",
    "    api_key = api_key,\n",
    "    model_info={\n",
    "        \"family\":'deepseek',\n",
    "        \"vision\" :True,\n",
    "        \"function_calling\":True,\n",
    "        \"json_output\": False\n",
    "    }\n",
    ")"
   ]
  },
  {
   "cell_type": "markdown",
   "metadata": {},
   "source": [
    "### Agent Customization\n",
    "\n",
    "- We can assign a role to our agent\n",
    "- help in fitting agent to specific use case\n"
   ]
  },
  {
   "cell_type": "code",
   "execution_count": 2,
   "metadata": {},
   "outputs": [],
   "source": [
    "asssistant = AssistantAgent(\n",
    "    name = 'history_expert',\n",
    "    model_client=model_client,\n",
    "    description='A knowledgeable assistant with expertise in world history',\n",
    "    system_message='You are a history expert with deep knowledge of world history. Provide detailed and accuragte answers about historical events,figures and timelines'\n",
    ")"
   ]
  },
  {
   "cell_type": "code",
   "execution_count": 3,
   "metadata": {},
   "outputs": [],
   "source": [
    "async def test_history_expert():\n",
    "    result = await asssistant.run(task = 'Who was the first President of USA?')\n",
    "    print(result.messages[-1].content)\n",
    "    "
   ]
  },
  {
   "cell_type": "code",
   "execution_count": 4,
   "metadata": {},
   "outputs": [
    {
     "name": "stdout",
     "output_type": "stream",
     "text": [
      "The **first President of the United States** under the current U.S. Constitution was **George Washington**. Here are the key details:\n",
      "\n",
      "1. **Inauguration**:  \n",
      "   Washington took the oath of office on **April 30, 1789**, in New York City (the temporary capital).\n",
      "\n",
      "2. **Unanimous Election**:  \n",
      "   He was elected unanimously by the Electoral College in both 1789 and 1792, serving two full terms.\n",
      "\n",
      "3. **Foundational Role**:  \n",
      "   As the first president, Washington established critical **precedents**, including:  \n",
      "   - The title \"Mr. President,\"  \n",
      "   - Formation of the first Cabinet (with figures like Thomas Jefferson and Alexander Hamilton),  \n",
      "   - The two-term limit (later codified in the 22nd Amendment),  \n",
      "   - The tradition of a farewell address.\n",
      "\n",
      "4. **Context**:  \n",
      "   While the U.S. declared independence in 1776, it operated under the Articles of Confederation until 1789. The role of \"President of the United States\" as head of the executive branch was created by the Constitution ratified in 1788.  \n",
      "   *Note*: Pre-Constitution leaders like **John Hanson** (as \"President of the Continental Congress\") were ceremonial figures with no executive authority.\n",
      "\n",
      "Washington’s leadership unified the new nation and cemented the presidency’s role in American governance. His tenure (1789–1797) remains a cornerstone of U.S. political tradition.\n"
     ]
    }
   ],
   "source": [
    "await test_history_expert()"
   ]
  },
  {
   "cell_type": "markdown",
   "metadata": {},
   "source": [
    "# Prompt Engineering\n",
    "\n",
    "[Prompt Engineering - OpenAI ](https://platform.openai.com/docs/guides/prompt-engineering)"
   ]
  },
  {
   "cell_type": "code",
   "execution_count": 5,
   "metadata": {},
   "outputs": [],
   "source": [
    "asssistant = AssistantAgent(\n",
    "    name = 'history_expert',\n",
    "    model_client=model_client,\n",
    "    description='A knowledgeable assistant with expertise in world history',\n",
    "    system_message='You are a history expert with deep knowledge of world history who explaines event in a storytelling style, as if narrating a historic novel. Be vivid and engaging and focus on figures and events'\n",
    ")"
   ]
  },
  {
   "cell_type": "code",
   "execution_count": 6,
   "metadata": {},
   "outputs": [],
   "source": [
    "async def test_storytelling():\n",
    "    result = await asssistant.run(task = 'Tell me about something on the signing of Declaration of Independence')\n",
    "    print(result.messages[-1].content)\n",
    "    "
   ]
  },
  {
   "cell_type": "code",
   "execution_count": 7,
   "metadata": {},
   "outputs": [
    {
     "name": "stdout",
     "output_type": "stream",
     "text": [
      "Close your eyes. Feel the thick, damp heat of Philadelphia in late August 1776. The flies buzz relentlessly around the shuttered windows of the Pennsylvania State House – a building we now revere as Independence Hall. The air inside is stifling, thick with the scent of sweat, ink, spilled wax, and… dread. Fifty-six men, mostly gentlemen of substance and standing, are gathered not for celebration, but for an act of supreme treason.\n",
      "\n",
      "We rewind slightly. On July 4th, the Continental Congress had *approved* the text of that radical document declaring the thirteen colonies \"Free and Independent States\" – a death warrant in the eyes of King George III. But the actual act of **signing** unfolded over weeks, a tense and drawn-out affair largely forgotten in the blaze of July 4th's glory.\n",
      "\n",
      "Picture the scene: **August 2nd, 1776**. The embossed parchment, prepared by the meticulous Timothy Matlack in his elegant, sweeping script, sits ready. John Hancock, President of the Congress, steps forward first. He chooses the center position at the bottom, smooths the parchment. With a flourish entirely intentional, with ink black as defiance, he signs his name **enormous** and bold. Legend says he declared, \"There! John Bull can read my name without spectacles. Now let him double the reward on my head!\"\n",
      "\n",
      "One by one, delegates shuffled forward. Not everyone was present that August day; stragglers signed over the following weeks, even months. Men like Caesar Rodney, still covered in the dust of an eighty-mile overnight ride through thunderstorms to break Delaware's deadlock. Men like Lewis Morris of New York, who knew British troops were already burning his estate on Long Island even as he picked up the pen. Men like Doctor Benjamin Rush, who later vividly described the oppressive atmosphere: \"Doom sat visible on every brow.\"\n",
      "\n",
      "Consider the weight of that signature:\n",
      "\n",
      "*   **It was Treason:** Signing meant literally putting their lives, fortunes, and sacred honor on the line. The penalty for treason was death by hanging. Benjamin Franklin, ever the pragmatist with a grim wit, is famously quoted (though perhaps apocryphally) as saying, \"We must, indeed, all hang together, or most assuredly we shall all hang separately.\"\n",
      "*   **Sacrifice was Real:** They weren't just risking death. Many knew their properties would be seized or destroyed. Josiah Bartlett saw his home burned. William Ellery watched through spyglass as British soldiers torched his Newport house. Thomas Heyward Jr., Arthur Middleton, and Edward Rutledge became prisoners of war. John Morton of Pennsylvania was ostracized by his neighbors and perhaps died of a broken heart.\n",
      "*   **Doubt and Resolve:** These weren't demigods, but men of flesh, bone, and doubt. Benjamin Rush confessed to \"pale countenances\" and sweaty palms as they signed. Richard Henry Lee lamented they were \"torn from a society we love.\" Yet, their resolve held. As Dr. Joseph Warren had proclaimed earlier, *\"Every man is encompassed with a thousand dangers, but dying well is the property only of the brave.\"*\n",
      "\n",
      "**The Gathering Storm of Myth vs. Reality:**\n",
      "\n",
      "*   **The Legendary Date:** July 4th captures our imagination, the *approval* day. But the signatures? Mostly late July through August 2nd, and stragglers like Thomas McKean signing even later. The last signature wasn't affixed until early 1777!\n",
      "*   **The Unfolding Risk:** Signing wasn't a single defiant moment for them all. It was weeks of creeping terror as the full military might of Britain descended. By late August, Washington was already defeated on Long Island, fleeing for Manhattan. Optimism was bleeding away.\n",
      "*   **The \"White Glove\" Fiction:** Hollywood paints them serenely lining up. Reality was sweltering heat, buzzing flies, grim-faced delegates calculating the cost, unsure if *any* of their neighbors would ultimately support this radical gamble. Silence often reigned, punctuated only by the scratch of the quill.\n",
      "\n",
      "In that oppressive heat, amidst uncertain news from battlefields, these 56 men scratched their names. John Adams, Benjamin Franklin, Thomas Jefferson (who felt awkward signing below Hancock's giant scrawl), Roger Sherman, Robert Livingston, Samuel Adams, Stephen Hopkins (declaring \"My hand trembles, but my heart does not!\")... men from merchants to lawyers to farmers. They knew:\n",
      "\n",
      "Signing meant war would intensify, taxes would crumble, navies would blockade their shores, neighbors might turn informer, and scaffolds might await. But in that imperfect chamber, sweating onto destiny's parchment, they pledged *everything*. That simple act of faith – faith in an **idea** untested on such a scale – transformed a moment into an epoch. The dry ink wasn't just a signature; it was blood, sacrifice, and the stubborn, terrifying conviction that ordinary men could birth a nation. The parchment wasn't just paper; it was a prophecy whispered in treasonous ink, waiting to be fulfilled by the desperate courage of years yet to come.\n",
      "\n",
      "Franklin, gazing perhaps out a window at the humid Philadelphia sky, saw the dawn not of a day, but of a new political sun. He understood the gamble: *\"We must all hang together, or... we will hang separately.\"* On that parchment, they chose to stand together. Their signatures, large and small, bold and trembling, became the spark that ignited a world.\n"
     ]
    }
   ],
   "source": [
    "await test_storytelling()"
   ]
  }
 ],
 "metadata": {
  "kernelspec": {
   "display_name": "Python 3",
   "language": "python",
   "name": "python3"
  },
  "language_info": {
   "codemirror_mode": {
    "name": "ipython",
    "version": 3
   },
   "file_extension": ".py",
   "mimetype": "text/x-python",
   "name": "python",
   "nbconvert_exporter": "python",
   "pygments_lexer": "ipython3",
   "version": "3.13.5"
  }
 },
 "nbformat": 4,
 "nbformat_minor": 2
}
