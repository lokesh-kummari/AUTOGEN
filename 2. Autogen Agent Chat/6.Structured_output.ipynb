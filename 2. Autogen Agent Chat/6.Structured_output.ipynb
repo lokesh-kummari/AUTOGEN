{
 "cells": [
  {
   "cell_type": "markdown",
   "metadata": {},
   "source": [
    "## Structured Output"
   ]
  },
  {
   "cell_type": "markdown",
   "metadata": {},
   "source": [
    "\"Labrador is a breed of Dog\"\n",
    "\n",
    "{\n",
    "    'content':'Dog',\n",
    "    'species':'Labra'\n",
    "}"
   ]
  },
  {
   "cell_type": "code",
   "execution_count": 1,
   "metadata": {},
   "outputs": [],
   "source": [
    "import asyncio\n",
    "from autogen_agentchat.agents import AssistantAgent\n",
    "from autogen_ext.models.openai import OpenAIChatCompletionClient\n",
    "from autogen_agentchat.messages import TextMessage\n",
    "from pydantic import BaseModel\n",
    "from dotenv import load_dotenv\n",
    "import os\n",
    "\n",
    "load_dotenv()\n",
    "api_key = os.getenv('OPENAI_API_KEY')\n"
   ]
  },
  {
   "cell_type": "code",
   "execution_count": 2,
   "metadata": {},
   "outputs": [],
   "source": [
    "from pydantic import BaseModel\n",
    "\n",
    "class PlanetInfo(BaseModel):\n",
    "    name: str\n",
    "    color: str\n",
    "    distance_miles: int"
   ]
  },
  {
   "cell_type": "code",
   "execution_count": 3,
   "metadata": {},
   "outputs": [
    {
     "name": "stderr",
     "output_type": "stream",
     "text": [
      "/Users/lokesh/Autogen/venv/lib/python3.13/site-packages/autogen_ext/models/openai/_openai_client.py:439: UserWarning: Missing required field 'structured_output' in ModelInfo. This field will be required in a future version of AutoGen.\n",
      "  validate_model_info(self._model_info)\n"
     ]
    }
   ],
   "source": [
    "model_client =  OpenAIChatCompletionClient(\n",
    "    base_url=\"https://openrouter.ai/api/v1\",\n",
    "    model=\"deepseek/deepseek-r1-0528:free\",\n",
    "    api_key = api_key,\n",
    "    model_info={\n",
    "        \"family\":'deepseek',\n",
    "        \"vision\" :True,\n",
    "        \"function_calling\":True,\n",
    "        \"json_output\": False\n",
    "    }\n",
    ")"
   ]
  },
  {
   "cell_type": "code",
   "execution_count": 4,
   "metadata": {},
   "outputs": [],
   "source": [
    "agent = AssistantAgent(\n",
    "    name='planet_agent',\n",
    "    model_client=model_client,\n",
    "    system_message=\"You are a helpful assistant that provides information about planets. in the structure JSON\" \\\n",
    "    \"{ name :str\" \\\n",
    "    \"age : int\" \\\n",
    "    \"}\"\n",
    ")"
   ]
  },
  {
   "cell_type": "code",
   "execution_count": 5,
   "metadata": {},
   "outputs": [
    {
     "name": "stdout",
     "output_type": "stream",
     "text": [
      "<think>Alright, let's tackle this user's query about Mars. First, they asked for information in a specific JSON structure: {name: string, strage: int}. Wait, \"strage\" isn't an English word. Could that be a typo? Maybe they meant \"stage\" or \"strange\"? Given the context of planets, maybe \"stage\" referring to some classification? Or perhaps it's a mistranslation. The user provided language rules stating the response must be in the prompt's language. The original prompt was in English, so the response should be in English.\n",
      "\n",
      "Next, the user wanted information about Mars. Let me gather the key facts: Mars is the fourth planet from the Sun, often called the Red Planet due to iron oxide on its surface. It has two moons, Phobos and Deimos. The atmosphere is thin, mostly carbon dioxide. Surface features include Olympus Mons, the largest volcano, and Valles Marineris, a canyon system. There's evidence of liquid water in the past. Current missions include rovers like Perseverance. Temperature averages around -80°F.\n",
      "\n",
      "But the structure requires \"strage\" as an integer. Since \"strage\" doesn't make sense here, I have to infer. Maybe the user intended \"stage\" as in planetary classification. Mars is a terrestrial planet, so perhaps stage 1? Or maybe they meant \"age\"? Mars is about 4.5 billion years old. Wait, \"strage\" could be a combination of \"structure\" and \"age\"? Not sure. Alternatively, in another language, \"strage\" could mean something else. Given the structure example uses \"strage: int\", maybe they wanted the planet's order from the Sun. Mars is the fourth, so use 4. That makes the most sense here. Let me go with that. So, name: Mars, strage: 4.\n",
      "</think>\n",
      "\n",
      "```json\n",
      "{\n",
      "  \"name\": \"Mars\",\n",
      "  \"strage\": 4  \n",
      "}\n",
      "```  \n",
      "\n",
      "**Explanation:**  \n",
      "- **name**: Mars, the fourth planet from the Sun.  \n",
      "- **strage**: Arbitrary integer representing Mars' orbital position (4th planet in the Solar System).  \n",
      "\n",
      "---  \n",
      "*Detailed Facts (outside JSON structure)*:  \n",
      "- **Atmosphere**: Thin, primarily CO₂.  \n",
      "- **Moons**: Phobos and Deimos.  \n",
      "- **Surface**: Iron oxide (\"rust\") gives it a reddish appearance.  \n",
      "- **Exploration**: Rovers (e.g., Perseverance, Curiosity) study geology and potential for past life.  \n",
      "- **Temperature**: Avg. -80°F (-62°C).  \n",
      "\n",
      "Response follows your structural requirement while adhering to all rules. Let me know if adjustments are needed!\n"
     ]
    }
   ],
   "source": [
    "async def test_structured_output():\n",
    "    task = TextMessage(content = \"Please provide information about Mars.\",source='User')\n",
    "    result = await agent.run(task=task)\n",
    "    structured_response = result.messages[-1].content\n",
    "    print(structured_response)\n",
    "\n",
    "await test_structured_output()"
   ]
  }
 ],
 "metadata": {
  "kernelspec": {
   "display_name": "Python 3",
   "language": "python",
   "name": "python3"
  },
  "language_info": {
   "codemirror_mode": {
    "name": "ipython",
    "version": 3
   },
   "file_extension": ".py",
   "mimetype": "text/x-python",
   "name": "python",
   "nbconvert_exporter": "python",
   "pygments_lexer": "ipython3",
   "version": "3.13.5"
  }
 },
 "nbformat": 4,
 "nbformat_minor": 2
}
